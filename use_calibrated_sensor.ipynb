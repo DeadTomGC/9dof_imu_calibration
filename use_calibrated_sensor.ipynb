{
 "cells": [
  {
   "cell_type": "code",
   "execution_count": 1,
   "id": "e22524a1",
   "metadata": {},
   "outputs": [],
   "source": [
    "from imu_calibration import calibrator,dataCollector\n",
    "from ellipsoid_fit_python.ellipsoid_fit import ellipsoid_plot\n",
    "import numpy as np\n",
    "import matplotlib.pyplot as plt\n",
    "from mpl_toolkits.mplot3d import Axes3D\n",
    "import qwiic_icm20948\n",
    "import ipywidgets as widgets"
   ]
  },
  {
   "cell_type": "code",
   "execution_count": 2,
   "id": "bfe1642f",
   "metadata": {},
   "outputs": [],
   "source": [
    "accelCal = calibrator('accelCenter','accelTrans')\n",
    "magCal = calibrator('magCenter','magTrans')"
   ]
  },
  {
   "cell_type": "code",
   "execution_count": 3,
   "id": "c2d36950",
   "metadata": {},
   "outputs": [
    {
     "name": "stdout",
     "output_type": "stream",
     "text": [
      "[0.03610293 0.05574535 0.06814677]\n",
      "[[ 1.0781034  -0.21431702 -0.07403659]\n",
      " [-0.21431702  0.71177901 -0.24391956]\n",
      " [-0.07403659 -0.24391956  1.04424741]]\n",
      "[ -8.70981008 -12.91955642  17.3433582 ]\n",
      "[[ 0.03083491 -0.00050753 -0.00018444]\n",
      " [-0.00050753  0.03017014 -0.00017897]\n",
      " [-0.00018444 -0.00017897  0.03039004]]\n"
     ]
    }
   ],
   "source": [
    "print(accelCal.center)\n",
    "print(accelCal.transformation)\n",
    "print(magCal.center)\n",
    "print(magCal.transformation)"
   ]
  },
  {
   "cell_type": "code",
   "execution_count": null,
   "id": "64efbe1f",
   "metadata": {},
   "outputs": [],
   "source": []
  }
 ],
 "metadata": {
  "kernelspec": {
   "display_name": "Python 3 (ipykernel)",
   "language": "python",
   "name": "python3"
  },
  "language_info": {
   "codemirror_mode": {
    "name": "ipython",
    "version": 3
   },
   "file_extension": ".py",
   "mimetype": "text/x-python",
   "name": "python",
   "nbconvert_exporter": "python",
   "pygments_lexer": "ipython3",
   "version": "3.7.3"
  }
 },
 "nbformat": 4,
 "nbformat_minor": 5
}
