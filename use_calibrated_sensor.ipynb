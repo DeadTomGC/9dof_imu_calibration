{
 "cells": [
  {
   "cell_type": "code",
   "execution_count": 1,
   "id": "e22524a1",
   "metadata": {},
   "outputs": [],
   "source": [
    "from imu_pose_estimator import imu_data_source,pose_tracker,integrator\n",
    "import ipywidgets as widgets"
   ]
  },
  {
   "cell_type": "code",
   "execution_count": 2,
   "id": "513206f6",
   "metadata": {},
   "outputs": [
    {
     "data": {
      "application/vnd.jupyter.widget-view+json": {
       "model_id": "880d313ef0384b8f966dc33f6d160bc5",
       "version_major": 2,
       "version_minor": 0
      },
      "text/plain": [
       "FloatSlider(value=0.0, description='X:', max=2.0, min=-2.0, step=1.0)"
      ]
     },
     "metadata": {},
     "output_type": "display_data"
    },
    {
     "data": {
      "application/vnd.jupyter.widget-view+json": {
       "model_id": "7d2a000af1a744ea9fbd7a7b453b7891",
       "version_major": 2,
       "version_minor": 0
      },
      "text/plain": [
       "FloatSlider(value=0.0, description='Y:', max=2.0, min=-2.0, step=1.0)"
      ]
     },
     "metadata": {},
     "output_type": "display_data"
    },
    {
     "data": {
      "application/vnd.jupyter.widget-view+json": {
       "model_id": "e0d4800aaf6e43bfa0add5b4d11d15c5",
       "version_major": 2,
       "version_minor": 0
      },
      "text/plain": [
       "FloatSlider(value=0.0, description='Z:', max=2.0, min=-2.0, step=1.0)"
      ]
     },
     "metadata": {},
     "output_type": "display_data"
    },
    {
     "data": {
      "application/vnd.jupyter.widget-view+json": {
       "model_id": "9fca542c51af4ec791549caaf333586b",
       "version_major": 2,
       "version_minor": 0
      },
      "text/plain": [
       "FloatSlider(value=0.0, description='delta Tx10:', step=0.01)"
      ]
     },
     "metadata": {},
     "output_type": "display_data"
    },
    {
     "data": {
      "application/vnd.jupyter.widget-view+json": {
       "model_id": "2802b3a98c4045b5a507b157083b3ff2",
       "version_major": 2,
       "version_minor": 0
      },
      "text/plain": [
       "Button(description='Reset', style=ButtonStyle())"
      ]
     },
     "metadata": {},
     "output_type": "display_data"
    }
   ],
   "source": [
    "#ys = widgets.FloatSlider(value=0,min=-180,max=180,step=1,description='heading:',continuous_update=True)\n",
    "#ps = widgets.FloatSlider(value=0,min=-180,max=180,step=1,description='pitch:',continuous_update=True)\n",
    "#rs = widgets.FloatSlider(value=0,min=-180,max=180,step=1,description='roll:',continuous_update=True)\n",
    "Xs = widgets.FloatSlider(value=0,min=-2,max=2,step=1,description='X:',continuous_update=True)\n",
    "Ys = widgets.FloatSlider(value=0,min=-2,max=2,step=1,description='Y:',continuous_update=True)\n",
    "Zs = widgets.FloatSlider(value=0,min=-2,max=2,step=1,description='Z:',continuous_update=True)\n",
    "ts = widgets.FloatSlider(value=0,min=0,max=100,step=0.01,description='delta Tx10:',continuous_update=True)\n",
    "display(Xs)\n",
    "display(Ys)\n",
    "display(Zs)\n",
    "display(ts)\n",
    "#display(ys)\n",
    "#display(ps)\n",
    "#display(rs)\n",
    "reset = widgets.Button(description='Reset')\n",
    "\n",
    "display(reset)"
   ]
  },
  {
   "cell_type": "code",
   "execution_count": 3,
   "id": "bfe1642f",
   "metadata": {},
   "outputs": [],
   "source": [
    "dataSource = imu_data_source()\n",
    "estimator = pose_tracker(dataSource,ts)#,ys,ps,rs)\n",
    "loc_tracker = integrator(estimator,Xs,Ys,Zs)\n",
    "reset.on_click(loc_tracker.resetData)"
   ]
  },
  {
   "cell_type": "code",
   "execution_count": 4,
   "id": "c2d36950",
   "metadata": {},
   "outputs": [],
   "source": [
    "dataSource.start()"
   ]
  },
  {
   "cell_type": "code",
   "execution_count": 9,
   "id": "158e560e",
   "metadata": {},
   "outputs": [],
   "source": [
    "loc_tracker.resetData()"
   ]
  },
  {
   "cell_type": "code",
   "execution_count": null,
   "id": "235fac4c",
   "metadata": {},
   "outputs": [],
   "source": [
    "def measure():\n",
    "    t0 = time.time()\n",
    "    t1 = t0\n",
    "    while t1 == t0:\n",
    "        t1 = time.time()\n",
    "    return (t0, t1, t1-t0)\n",
    "\n",
    "samples = [measure() for i in range(10)]\n",
    "\n",
    "for s in samples:\n",
    "    print(s)"
   ]
  },
  {
   "cell_type": "code",
   "execution_count": null,
   "id": "64efbe1f",
   "metadata": {},
   "outputs": [],
   "source": [
    "dataSource.collect = False"
   ]
  },
  {
   "cell_type": "code",
   "execution_count": null,
   "id": "f7c9faf3",
   "metadata": {},
   "outputs": [],
   "source": []
  }
 ],
 "metadata": {
  "kernelspec": {
   "display_name": "Python 3 (ipykernel)",
   "language": "python",
   "name": "python3"
  },
  "language_info": {
   "codemirror_mode": {
    "name": "ipython",
    "version": 3
   },
   "file_extension": ".py",
   "mimetype": "text/x-python",
   "name": "python",
   "nbconvert_exporter": "python",
   "pygments_lexer": "ipython3",
   "version": "3.7.3"
  }
 },
 "nbformat": 4,
 "nbformat_minor": 5
}
