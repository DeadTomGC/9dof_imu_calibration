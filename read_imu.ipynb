{
 "cells": [
  {
   "cell_type": "code",
   "execution_count": 7,
   "id": "839d96cf",
   "metadata": {},
   "outputs": [],
   "source": [
    "import qwiic_icm20948\n",
    "import time\n",
    "import sys\n",
    "import numpy as np\n",
    "import ipywidgets as widgets\n",
    "from threading import Thread\n",
    "from ellipsoid_fit import ellipsoid_fit, ellipsoid_plot, data_regularize\n",
    "paused = False\n",
    "collect = True"
   ]
  },
  {
   "cell_type": "code",
   "execution_count": 8,
   "id": "32c9f805",
   "metadata": {},
   "outputs": [],
   "source": [
    "def toggleData(b):\n",
    "    global paused\n",
    "    global pause\n",
    "    print(b)\n",
    "    paused = False if paused else True\n",
    "    pause.description = 'Resume' if paused else 'Pause'\n"
   ]
  },
  {
   "cell_type": "code",
   "execution_count": null,
   "id": "b45e4f92",
   "metadata": {},
   "outputs": [],
   "source": [
    "IMU = qwiic_icm20948.QwiicIcm20948()\n",
    "\n",
    "if IMU.connected == False:\n",
    "    print(\"The Qwiic ICM20948 device isn't connected to the system. Please check your connection\", \\\n",
    "        file=sys.stderr)\n",
    "Ascale = 65534/4.0\n",
    "Gscale = 65534/500.0\n",
    "Mscale = 10.0\n",
    "accelData = []\n",
    "gyroData = []\n",
    "magData = []\n"
   ]
  },
  {
   "cell_type": "code",
   "execution_count": null,
   "id": "ae00edfb",
   "metadata": {},
   "outputs": [],
   "source": [
    "class dataCollector(Thread):\n",
    "        \n",
    "    def run(self):\n",
    "        global collect\n",
    "        global IMU\n",
    "        global paused\n",
    "        global accelData\n",
    "        global gyroData\n",
    "        global magData\n",
    "        IMU.begin()\n",
    "        collect = True\n",
    "        while collect:\n",
    "            if IMU.dataReady():\n",
    "                IMU.getAgmt() # read all axis and temp from sensor, note this also updates all instance variables\n",
    "                if not paused:   \n",
    "                #    print(\\\n",
    "                # 'Accel X:{: 06f}g'.format(IMU.axRaw/Ascale)\\\n",
    "                #, '\\n', 'Accel Y:{: 06f}g'.format(IMU.ayRaw/Ascale)\\\n",
    "                #, '\\n', 'Accel Z:{: 06f}g'.format(IMU.azRaw/Ascale)\\\n",
    "                #, '\\n', 'Gyro X{: 06f}dps'.format(IMU.gxRaw/Gscale)\\\n",
    "                #, '\\n', 'Gyro Y{: 06f}dps'.format(IMU.gyRaw/Gscale)\\\n",
    "                #, '\\n', 'Gyro Z{: 06f}dps'.format(IMU.gzRaw/Gscale)\\\n",
    "                #, '\\n', 'Mag X{: 06f}'.format(IMU.mxRaw/Mscale)\\\n",
    "                #, '\\n', 'Mag Y{: 06f}'.format(IMU.myRaw/Mscale)\\\n",
    "                #, '\\n', 'Mag Z{: 06f}'.format(IMU.mzRaw/Mscale)\\\n",
    "                #)\n",
    "                    accelData.append(np.array([IMU.axRaw/Ascale,IMU.ayRaw/Ascale,IMU.azRaw/Ascale]))\n",
    "                    gyroData.append(np.array([IMU.gxRaw/Gscale,IMU.gyRaw/Gscale,IMU.gzRaw/Gscale]))\n",
    "                    magData.append(np.array([IMU.mxRaw/Mscale,IMU.myRaw/Mscale,IMU.mzRaw/Mscale]))\n",
    "\n",
    "                time.sleep(0.03)\n",
    "            else:\n",
    "                print(\"Waiting for data\")\n",
    "                time.sleep(0.5)\n"
   ]
  },
  {
   "cell_type": "code",
   "execution_count": null,
   "id": "040f1f8a",
   "metadata": {},
   "outputs": [],
   "source": [
    "collector = dataCollector()"
   ]
  },
  {
   "cell_type": "code",
   "execution_count": 10,
   "id": "d97a71e9",
   "metadata": {},
   "outputs": [
    {
     "data": {
      "application/vnd.jupyter.widget-view+json": {
       "model_id": "9de09e4c035645dfa8f66ab606b96eaf",
       "version_major": 2,
       "version_minor": 0
      },
      "text/plain": [
       "Button(description='Pause', style=ButtonStyle())"
      ]
     },
     "metadata": {},
     "output_type": "display_data"
    },
    {
     "name": "stdout",
     "output_type": "stream",
     "text": [
      "Button(description='Pause', style=ButtonStyle())\n"
     ]
    }
   ],
   "source": [
    "pause = widgets.Button(description='Pause')\n",
    "pause.on_click(toggleData)\n",
    "\n",
    "display(pause)"
   ]
  },
  {
   "cell_type": "code",
   "execution_count": null,
   "id": "f1faf384",
   "metadata": {},
   "outputs": [],
   "source": [
    "collector.start()"
   ]
  },
  {
   "cell_type": "code",
   "execution_count": null,
   "id": "e6092c00",
   "metadata": {},
   "outputs": [],
   "source": [
    "#Stop Data Collection\n",
    "collect = False"
   ]
  },
  {
   "cell_type": "code",
   "execution_count": null,
   "id": "7e5def20",
   "metadata": {},
   "outputs": [],
   "source": [
    "npAccelData = np.array(accelData)\n",
    "npGyroData = np.array(gyroData)\n",
    "npMagData = np.array(magData)"
   ]
  },
  {
   "cell_type": "code",
   "execution_count": null,
   "id": "f2ba15a7",
   "metadata": {},
   "outputs": [],
   "source": [
    "regAccelData = data_regularize(npAccelData)\n",
    "#regGyroData = data_regularize(npGyroData)\n",
    "regMagData = data_regularize(npMagData)\n"
   ]
  },
  {
   "cell_type": "code",
   "execution_count": null,
   "id": "d21cb7ad",
   "metadata": {},
   "outputs": [],
   "source": [
    "accelCenter, accelTR,accelRadius = ellipsoid_fit(regAccelData)\n",
    "magCenter, magTR,magRadius = ellipsoid_fit(regMagData)"
   ]
  },
  {
   "cell_type": "code",
   "execution_count": null,
   "id": "e488fec5",
   "metadata": {},
   "outputs": [],
   "source": []
  }
 ],
 "metadata": {
  "kernelspec": {
   "display_name": "Python 3 (ipykernel)",
   "language": "python",
   "name": "python3"
  },
  "language_info": {
   "codemirror_mode": {
    "name": "ipython",
    "version": 3
   },
   "file_extension": ".py",
   "mimetype": "text/x-python",
   "name": "python",
   "nbconvert_exporter": "python",
   "pygments_lexer": "ipython3",
   "version": "3.7.3"
  }
 },
 "nbformat": 4,
 "nbformat_minor": 5
}
